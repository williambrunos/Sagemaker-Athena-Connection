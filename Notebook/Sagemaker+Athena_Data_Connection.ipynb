{
 "cells": [
  {
   "cell_type": "markdown",
   "id": "cf33469e",
   "metadata": {},
   "source": [
    "# Sagemaker+Athena: Data connection\n",
    "\n",
    "This notebook is intended to teach how to connect a sagemaker notebook to aws athena data using python 3.\n",
    "\n",
    "## Contents\n",
    "\n",
    "- Installing PyAthena\n",
    "- Checking AWS Region\n",
    "- Connecting to Athena\n",
    "    - Importing libs\n",
    "    - Creating engine connection\n",
    "    - Reading data with pandas\n",
    "\n",
    "## References\n",
    "\n",
    "[AWS Data engineering Immersion Day](https://catalog.us-east-1.prod.workshops.aws/workshops/976050cc-0606-4b23-b49f-ca7b8ac4b153/en-US/800/830-athena-ml-usecase)"
   ]
  },
  {
   "cell_type": "markdown",
   "id": "a3f93593",
   "metadata": {},
   "source": [
    "## Installing PyAthena"
   ]
  },
  {
   "cell_type": "code",
   "execution_count": 1,
   "id": "7202dc93",
   "metadata": {},
   "outputs": [
    {
     "name": "stdout",
     "output_type": "stream",
     "text": [
      "Looking in indexes: https://pypi.org/simple, https://pip.repos.neuron.amazonaws.com\n",
      "Requirement already satisfied: PyAthena[SQLAlchemy] in /home/ec2-user/anaconda3/envs/python3/lib/python3.10/site-packages (2.23.0)\n",
      "Requirement already satisfied: fsspec in /home/ec2-user/anaconda3/envs/python3/lib/python3.10/site-packages (from PyAthena[SQLAlchemy]) (2022.11.0)\n",
      "Requirement already satisfied: boto3>=1.26.4 in /home/ec2-user/anaconda3/envs/python3/lib/python3.10/site-packages (from PyAthena[SQLAlchemy]) (1.26.71)\n",
      "Requirement already satisfied: tenacity>=4.1.0 in /home/ec2-user/anaconda3/envs/python3/lib/python3.10/site-packages (from PyAthena[SQLAlchemy]) (8.1.0)\n",
      "Requirement already satisfied: botocore>=1.29.4 in /home/ec2-user/anaconda3/envs/python3/lib/python3.10/site-packages (from PyAthena[SQLAlchemy]) (1.29.71)\n",
      "Requirement already satisfied: sqlalchemy<2.0.0,>=1.0.0 in /home/ec2-user/anaconda3/envs/python3/lib/python3.10/site-packages (from PyAthena[SQLAlchemy]) (1.4.46)\n",
      "Requirement already satisfied: s3transfer<0.7.0,>=0.6.0 in /home/ec2-user/anaconda3/envs/python3/lib/python3.10/site-packages (from boto3>=1.26.4->PyAthena[SQLAlchemy]) (0.6.0)\n",
      "Requirement already satisfied: jmespath<2.0.0,>=0.7.1 in /home/ec2-user/anaconda3/envs/python3/lib/python3.10/site-packages (from boto3>=1.26.4->PyAthena[SQLAlchemy]) (1.0.1)\n",
      "Requirement already satisfied: urllib3<1.27,>=1.25.4 in /home/ec2-user/anaconda3/envs/python3/lib/python3.10/site-packages (from botocore>=1.29.4->PyAthena[SQLAlchemy]) (1.26.8)\n",
      "Requirement already satisfied: python-dateutil<3.0.0,>=2.1 in /home/ec2-user/anaconda3/envs/python3/lib/python3.10/site-packages (from botocore>=1.29.4->PyAthena[SQLAlchemy]) (2.8.2)\n",
      "Requirement already satisfied: greenlet!=0.4.17 in /home/ec2-user/anaconda3/envs/python3/lib/python3.10/site-packages (from sqlalchemy<2.0.0,>=1.0.0->PyAthena[SQLAlchemy]) (2.0.1)\n",
      "Requirement already satisfied: six>=1.5 in /home/ec2-user/anaconda3/envs/python3/lib/python3.10/site-packages (from python-dateutil<3.0.0,>=2.1->botocore>=1.29.4->PyAthena[SQLAlchemy]) (1.16.0)\n"
     ]
    }
   ],
   "source": [
    "!pip install PyAthena[SQLAlchemy]"
   ]
  },
  {
   "cell_type": "markdown",
   "id": "5d2e719b",
   "metadata": {},
   "source": [
    "## Checking AWS region"
   ]
  },
  {
   "cell_type": "code",
   "execution_count": 2,
   "id": "c776217a",
   "metadata": {},
   "outputs": [
    {
     "name": "stdout",
     "output_type": "stream",
     "text": [
      "sa-east-1\r\n"
     ]
    }
   ],
   "source": [
    "!aws configure get region"
   ]
  },
  {
   "cell_type": "markdown",
   "id": "3f5ea32a",
   "metadata": {},
   "source": [
    "## Connecting to athena"
   ]
  },
  {
   "cell_type": "markdown",
   "id": "bdb2798c",
   "metadata": {},
   "source": [
    "Importing libs"
   ]
  },
  {
   "cell_type": "code",
   "execution_count": 3,
   "id": "1fbee16c",
   "metadata": {},
   "outputs": [],
   "source": [
    "from sqlalchemy import create_engine\n",
    "import pandas as pd"
   ]
  },
  {
   "cell_type": "markdown",
   "id": "033c65de",
   "metadata": {},
   "source": [
    "Creating engine connection with athena:"
   ]
  },
  {
   "cell_type": "code",
   "execution_count": 6,
   "id": "1a4a5b37",
   "metadata": {},
   "outputs": [],
   "source": [
    "# Your aws s3 athena directory, the same used to configure the athena queries\n",
    "s3_staging_dir = \"s3://aws-athena-results-xxxxx/\"\n",
    "# AWS region of this notebook\n",
    "aws_region = 'sa-east-1'\n",
    "# Connection engine string\n",
    "connection_string = f\"awsathena+rest://:@athena.{aws_region}.amazonaws.com:443/ticketdata?s3_staging_dir={s3_staging_dir}\"\n",
    "\n",
    "# Creating connection engine\n",
    "engine = create_engine(connection_string)"
   ]
  },
  {
   "cell_type": "code",
   "execution_count": 7,
   "id": "d2f2b677",
   "metadata": {},
   "outputs": [
    {
     "data": {
      "text/html": [
       "<div>\n",
       "<style scoped>\n",
       "    .dataframe tbody tr th:only-of-type {\n",
       "        vertical-align: middle;\n",
       "    }\n",
       "\n",
       "    .dataframe tbody tr th {\n",
       "        vertical-align: top;\n",
       "    }\n",
       "\n",
       "    .dataframe thead th {\n",
       "        text-align: right;\n",
       "    }\n",
       "</style>\n",
       "<table border=\"1\" class=\"dataframe\">\n",
       "  <thead>\n",
       "    <tr style=\"text-align: right;\">\n",
       "      <th></th>\n",
       "      <th>name</th>\n",
       "      <th>last</th>\n",
       "    </tr>\n",
       "  </thead>\n",
       "  <tbody>\n",
       "    <tr>\n",
       "      <th>0</th>\n",
       "      <td>William</td>\n",
       "      <td>Lima</td>\n",
       "    </tr>\n",
       "    <tr>\n",
       "      <th>1</th>\n",
       "      <td>Marcos</td>\n",
       "      <td>Vinicius</td>\n",
       "    </tr>\n",
       "    <tr>\n",
       "      <th>2</th>\n",
       "      <td>Clara</td>\n",
       "      <td>Isabela</td>\n",
       "    </tr>\n",
       "  </tbody>\n",
       "</table>\n",
       "</div>"
      ],
      "text/plain": [
       "      name      last\n",
       "0  William      Lima\n",
       "1   Marcos  Vinicius\n",
       "2    Clara   Isabela"
      ]
     },
     "execution_count": 7,
     "metadata": {},
     "output_type": "execute_result"
    }
   ],
   "source": [
    "# Reading the data with pandas\n",
    "df = pd.read_sql('SELECT * FROM \"testes\".\"test_table\"', engine)\n",
    "df"
   ]
  }
 ],
 "metadata": {
  "kernelspec": {
   "display_name": "conda_python3",
   "language": "python",
   "name": "conda_python3"
  },
  "language_info": {
   "codemirror_mode": {
    "name": "ipython",
    "version": 3
   },
   "file_extension": ".py",
   "mimetype": "text/x-python",
   "name": "python",
   "nbconvert_exporter": "python",
   "pygments_lexer": "ipython3",
   "version": "3.10.8"
  }
 },
 "nbformat": 4,
 "nbformat_minor": 5
}
